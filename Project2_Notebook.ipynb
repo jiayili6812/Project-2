{
  "cells": [
    {
      "cell_type": "markdown",
      "metadata": {
        "id": "zphH66MJdYit"
      },
      "source": [
        "# Reducing Risk: A Data-Driven Approach to Traffic Accident Mitigation in the U.S.\n",
        "\n"
      ]
    },
    {
      "cell_type": "markdown",
      "metadata": {
        "id": "mSMcGgjPSgPj"
      },
      "source": [
        "## 1. Overview"
      ]
    },
    {
      "cell_type": "markdown",
      "metadata": {
        "id": "hYwLaTBHdYiu"
      },
      "source": [
        "**1.1 Bottom Line Up Front:**\n",
        "This project analyzes X.\n",
        "\n",
        "**1.2 Key Early Insights:**\n",
        "TBD\n",
        "\n",
        "**1.3 Dataset Overview:**\n",
        "\n",
        "TBD\n",
        "\n",
        "Citations TBD"
      ]
    },
    {
      "cell_type": "markdown",
      "metadata": {
        "id": "no0bZ2xsdYiu"
      },
      "source": [
        "## 2. Business Understanding"
      ]
    },
    {
      "cell_type": "markdown",
      "metadata": {
        "id": "Qy6C9xKsdYiu"
      },
      "source": [
        "**2.1 Relevance of the Data**\n",
        "\n",
        "X\n",
        "\n",
        "**2.2 Analytical Questions**\n",
        "\n",
        "X\n",
        "\n",
        "**2.3 Goals & Benefits**\n",
        "\n",
        "X\n",
        "\n",
        "**2.4 Stakeholders**\n",
        "\n",
        "X\n",
        "\n"
      ]
    },
    {
      "cell_type": "markdown",
      "metadata": {
        "id": "CatHvqkodYiv"
      },
      "source": [
        "## 3. Data Understanding"
      ]
    },
    {
      "cell_type": "markdown",
      "metadata": {
        "id": "GOl8wAs5pK50"
      },
      "source": [
        "###3.1 Data and Library Loading:"
      ]
    },
    {
      "cell_type": "code",
      "execution_count": null,
      "metadata": {
        "colab": {
          "base_uri": "https://localhost:8080/"
        },
        "id": "dT1-ZnvMkYqz",
        "outputId": "47062b54-f4e8-40b2-b550-8a18078e58a5"
      },
      "outputs": [
        {
          "name": "stdout",
          "output_type": "stream",
          "text": [
            "Mounted at /content/drive\n"
          ]
        }
      ],
      "source": [
        "from google.colab import drive\n",
        "drive.mount('/content/drive')"
      ]
    },
    {
      "cell_type": "code",
      "execution_count": null,
      "metadata": {
        "id": "KguXHTbxdYiv"
      },
      "outputs": [],
      "source": [
        "# Load relevant imports\n",
        "import pandas as pd\n",
        "import numpy as np\n",
        "import matplotlib.pyplot as plt\n",
        "import seaborn as sns\n",
        "import datetime as dt\n",
        "import scipy.stats as stats\n",
        "from scipy.stats import ttest_ind\n",
        "import statsmodels"
      ]
    },
    {
      "cell_type": "markdown",
      "metadata": {
        "id": "UifM1YS-q9AI"
      },
      "source": [
        "###3.2 Identify Data Quality Issues"
      ]
    },
    {
      "cell_type": "markdown",
      "metadata": {
        "id": "7pkS7wSIdYiw"
      },
      "source": [
        "## 4. Data Preparation"
      ]
    },
    {
      "cell_type": "markdown",
      "metadata": {
        "id": "mmU3lD0hAIEZ"
      },
      "source": [
        "###4.1 Define functions 1-5 to:\n",
        "\n",
        "1. Drop unecessary columns\n",
        "2. Parse datetimes, drop invalids, create duration\n",
        "3. Remove outliers\n",
        "4. Handle missing values\n",
        "5. Feature engineering"
      ]
    },
    {
      "cell_type": "markdown",
      "metadata": {
        "id": "-uIL69nHAUtk"
      },
      "source": [
        "###4.2 Call functions and summarize data:"
      ]
    },
    {
      "cell_type": "markdown",
      "metadata": {
        "id": "CLZagnRQdYiw"
      },
      "source": [
        "## 5. EDA"
      ]
    },
    {
      "cell_type": "markdown",
      "metadata": {
        "id": "WhIsCqvMEwj0"
      },
      "source": [
        "### 0. Basic Exploration:"
      ]
    },
    {
      "cell_type": "markdown",
      "metadata": {
        "id": "W0kp8pAvElHX"
      },
      "source": [
        "### Question 1: \n"
      ]
    },
    {
      "cell_type": "markdown",
      "metadata": {
        "id": "f50DPTf3Erix"
      },
      "source": [
        "### Question 2:\n"
      ]
    },
    {
      "cell_type": "markdown",
      "metadata": {
        "id": "_-cWCaMyfEYO"
      },
      "source": [
        "## 6. Model Development"
      ]
    },
    {
      "cell_type": "markdown",
      "metadata": {
        "id": "k9oWo_BWdYix"
      },
      "source": [
        "## 7. Evaluation: Business Insights and Recommendations\n"
      ]
    },
    {
      "cell_type": "markdown",
      "metadata": {
        "id": "ATu0O-4DdYix"
      },
      "source": [
        "## 8. Conclusion and Next Steps"
      ]
    }
  ],
  "metadata": {
    "accelerator": "GPU",
    "colab": {
      "collapsed_sections": [
        "mmU3lD0hAIEZ",
        "-uIL69nHAUtk"
      ],
      "gpuType": "T4",
      "provenance": []
    },
    "kernelspec": {
      "display_name": "Python (learn-env)",
      "language": "python",
      "name": "learn-env"
    },
    "language_info": {
      "codemirror_mode": {
        "name": "ipython",
        "version": 3
      },
      "file_extension": ".py",
      "mimetype": "text/x-python",
      "name": "python",
      "nbconvert_exporter": "python",
      "pygments_lexer": "ipython3",
      "version": "3.12.4"
    }
  },
  "nbformat": 4,
  "nbformat_minor": 0
}
